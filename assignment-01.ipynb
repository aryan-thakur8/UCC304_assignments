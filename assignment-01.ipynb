{
  "nbformat": 4,
  "nbformat_minor": 0,
  "metadata": {
    "colab": {
      "provenance": []
    },
    "kernelspec": {
      "name": "python3",
      "display_name": "Python 3"
    },
    "language_info": {
      "name": "python"
    }
  },
  "cells": [
    {
      "cell_type": "code",
      "execution_count": 9,
      "metadata": {
        "colab": {
          "base_uri": "https://localhost:8080/"
        },
        "id": "fWP2H5013Ayh",
        "outputId": "023abb63-f110-45ad-b6ba-08d6ad113a57"
      },
      "outputs": [
        {
          "output_type": "stream",
          "name": "stdout",
          "text": [
            "Aryan ThakurAryan ThakurAryan Thakur \n"
          ]
        }
      ],
      "source": [
        "str=\"Aryan Thakur\"\n",
        "print(3*str)"
      ]
    }
  ]
}