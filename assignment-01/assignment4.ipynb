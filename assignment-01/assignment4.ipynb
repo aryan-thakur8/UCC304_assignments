{
  "nbformat": 4,
  "nbformat_minor": 0,
  "metadata": {
    "colab": {
      "provenance": []
    },
    "kernelspec": {
      "name": "python3",
      "display_name": "Python 3"
    },
    "language_info": {
      "name": "python"
    }
  },
  "cells": [
    {
      "cell_type": "code",
      "source": [
        "#question 4.1\n",
        "\n",
        "for i in range(1,11):\n",
        "    print(\"7 * \",i,\" = \",7*i,\"\\n\")\n"
      ],
      "metadata": {
        "colab": {
          "base_uri": "https://localhost:8080/"
        },
        "id": "sspkRdXcFEky",
        "outputId": "5095f276-c6e2-4e58-d765-d7bca570a20d"
      },
      "execution_count": null,
      "outputs": [
        {
          "output_type": "stream",
          "name": "stdout",
          "text": [
            "7 *  1  =  7 \n",
            "\n",
            "7 *  2  =  14 \n",
            "\n",
            "7 *  3  =  21 \n",
            "\n",
            "7 *  4  =  28 \n",
            "\n",
            "7 *  5  =  35 \n",
            "\n",
            "7 *  6  =  42 \n",
            "\n",
            "7 *  7  =  49 \n",
            "\n",
            "7 *  8  =  56 \n",
            "\n",
            "7 *  9  =  63 \n",
            "\n",
            "7 *  10  =  70 \n",
            "\n"
          ]
        }
      ]
    },
    {
      "cell_type": "code",
      "source": [
        "#4.1\n",
        "\n",
        "for i in range(1,11):\n",
        "    print(\"9 * \",i,\" = \",9*i,\"\\n\")"
      ],
      "metadata": {
        "colab": {
          "base_uri": "https://localhost:8080/"
        },
        "id": "US_77E8R7zoK",
        "outputId": "af413d08-bae7-485c-8452-78519b366547"
      },
      "execution_count": null,
      "outputs": [
        {
          "output_type": "stream",
          "name": "stdout",
          "text": [
            "9 *  1  =  9 \n",
            "\n",
            "9 *  2  =  18 \n",
            "\n",
            "9 *  3  =  27 \n",
            "\n",
            "9 *  4  =  36 \n",
            "\n",
            "9 *  5  =  45 \n",
            "\n",
            "9 *  6  =  54 \n",
            "\n",
            "9 *  7  =  63 \n",
            "\n",
            "9 *  8  =  72 \n",
            "\n",
            "9 *  9  =  81 \n",
            "\n",
            "9 *  10  =  90 \n",
            "\n"
          ]
        }
      ]
    },
    {
      "cell_type": "code",
      "source": [
        "#4.2\n",
        "n = int(input(\"Enter the number n: \"))\n",
        "print(\"Table of n:\")\n",
        "for i in range(1, 11):\n",
        "    print(n, \"x\", i, \"=\", n * i)"
      ],
      "metadata": {
        "id": "SPVU8inWAUGL",
        "colab": {
          "base_uri": "https://localhost:8080/"
        },
        "outputId": "a1d5c444-0b21-4579-f1f7-9cf47c0494a2"
      },
      "execution_count": 1,
      "outputs": [
        {
          "output_type": "stream",
          "name": "stdout",
          "text": [
            "Enter the number n: 49\n",
            "Table of n:\n",
            "49 x 1 = 49\n",
            "49 x 2 = 98\n",
            "49 x 3 = 147\n",
            "49 x 4 = 196\n",
            "49 x 5 = 245\n",
            "49 x 6 = 294\n",
            "49 x 7 = 343\n",
            "49 x 8 = 392\n",
            "49 x 9 = 441\n",
            "49 x 10 = 490\n"
          ]
        }
      ]
    },
    {
      "cell_type": "code",
      "source": [
        "#4.3\n",
        "n = int(input(\"Enter the number n: \"))\n",
        "total_sum = sum(range(1, n + 1))\n",
        "print('The sum of numbers from 1 to n is:', total_sum)"
      ],
      "metadata": {
        "id": "_c8ZwvZYAWdw",
        "colab": {
          "base_uri": "https://localhost:8080/"
        },
        "outputId": "ccad73ba-951b-44cc-d54f-2c3b4ae4d1bd"
      },
      "execution_count": 2,
      "outputs": [
        {
          "output_type": "stream",
          "name": "stdout",
          "text": [
            "Enter the number n: 34\n",
            "The sum of numbers from 1 to n is: 595\n"
          ]
        }
      ]
    }
  ]
}