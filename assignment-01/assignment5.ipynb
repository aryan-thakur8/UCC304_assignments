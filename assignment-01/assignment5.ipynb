{
  "nbformat": 4,
  "nbformat_minor": 0,
  "metadata": {
    "colab": {
      "provenance": []
    },
    "kernelspec": {
      "name": "python3",
      "display_name": "Python 3"
    },
    "language_info": {
      "name": "python"
    }
  },
  "cells": [
    {
      "cell_type": "code",
      "source": [
        "#5.1\n",
        "num1 = int(input(\"Enter the first number: \"))\n",
        "num2 = int(input(\"Enter the second number: \"))\n",
        "num3 = int(input(\"Enter the third number: \"))\n",
        "maximum = max(num1, num2, num3)\n",
        "print(\"The maximum among\", num1, \",\", num2, \"and\", num3, \"is: \", maximum)"
      ],
      "metadata": {
        "id": "sspkRdXcFEky",
        "colab": {
          "base_uri": "https://localhost:8080/"
        },
        "outputId": "96b83df6-5a94-4a6e-f226-ce23629321cc"
      },
      "execution_count": 1,
      "outputs": [
        {
          "output_type": "stream",
          "name": "stdout",
          "text": [
            "Enter the first number: 7\n",
            "Enter the second number: 8\n",
            "Enter the third number: 9\n",
            "The maximum among 7 , 8 and 9 is:  9\n"
          ]
        }
      ]
    },
    {
      "cell_type": "code",
      "source": [
        "#5.2\n",
        "n = int(input(\"Enter the number n: \"))\n",
        "totalSum = 0\n",
        "for num in range(1, n + 1):\n",
        "    if num % 7 == 0 and num % 9 == 0:\n",
        "        totalSum += num\n",
        "print(\"The sum of numbers divisible by 7 and 9 from 1 to n is: \", totalSum)"
      ],
      "metadata": {
        "id": "8VLMtE_vAzKE",
        "colab": {
          "base_uri": "https://localhost:8080/"
        },
        "outputId": "663797fd-6b58-43a4-aa72-8c4fb9bade17"
      },
      "execution_count": 2,
      "outputs": [
        {
          "output_type": "stream",
          "name": "stdout",
          "text": [
            "Enter the number n: 14\n",
            "The sum of numbers divisible by 7 and 9 from 1 to n is:  0\n"
          ]
        }
      ]
    },
    {
      "cell_type": "code",
      "source": [
        "#5.3\n",
        "n = int(input(\"Enter a number n: \"))\n",
        "total = 0\n",
        "for num in range(2, n+1):\n",
        "    is_prime = True\n",
        "    for i in range(2, num):\n",
        "        if num % i == 0:\n",
        "            is_prime = False\n",
        "            break\n",
        "    if is_prime:\n",
        "        total += num\n",
        "print(\"The sum of all prime numbers from 1 to\", n, \"is: \", total)"
      ],
      "metadata": {
        "id": "qal-rNOTA6vi",
        "colab": {
          "base_uri": "https://localhost:8080/"
        },
        "outputId": "ffcdd5b7-9f88-40d0-e207-64e48e948871"
      },
      "execution_count": 3,
      "outputs": [
        {
          "output_type": "stream",
          "name": "stdout",
          "text": [
            "Enter a number n: 50\n",
            "The sum of all prime numbers from 1 to 50 is:  328\n"
          ]
        }
      ]
    },
    {
      "cell_type": "code",
      "source": [],
      "metadata": {
        "id": "csTF093TA9qr"
      },
      "execution_count": null,
      "outputs": []
    }
  ]
}