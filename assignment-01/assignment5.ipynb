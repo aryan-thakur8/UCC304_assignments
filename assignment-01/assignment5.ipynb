{
  "nbformat": 4,
  "nbformat_minor": 0,
  "metadata": {
    "colab": {
      "provenance": []
    },
    "kernelspec": {
      "name": "python3",
      "display_name": "Python 3"
    },
    "language_info": {
      "name": "python"
    }
  },
  "cells": [
    {
      "cell_type": "code",
      "source": [
        "#5.1\n",
        "num1 = int(input(\"Enter the first number: \"))\n",
        "num2 = int(input(\"Enter the second number: \"))\n",
        "num3 = int(input(\"Enter the third number: \"))\n",
        "maximum = max(num1, num2, num3)\n",
        "print(\"The maximum among\", num1, \",\", num2, \"and\", num3, \"is: \", maximum)"
      ],
      "metadata": {
        "id": "sspkRdXcFEky"
      },
      "execution_count": null,
      "outputs": []
    },
    {
      "cell_type": "code",
      "source": [
        "#5.2\n",
        "n = int(input(\"Enter the number n: \"))\n",
        "totalSum = 0\n",
        "for num in range(1, n + 1):\n",
        "    if num % 7 == 0 and num % 9 == 0:\n",
        "        totalSum += num\n",
        "print(\"The sum of numbers divisible by 7 and 9 from 1 to n is: \", totalSum)"
      ],
      "metadata": {
        "id": "8VLMtE_vAzKE"
      },
      "execution_count": null,
      "outputs": []
    },
    {
      "cell_type": "code",
      "source": [
        "#5.3\n",
        "n = int(input(\"Enter a number n: \"))\n",
        "total = 0\n",
        "for num in range(2, n+1):\n",
        "    is_prime = True\n",
        "    for i in range(2, num):\n",
        "        if num % i == 0:\n",
        "            is_prime = False\n",
        "            break\n",
        "    if is_prime:\n",
        "        total += num\n",
        "print(\"The sum of all prime numbers from 1 to\", n, \"is: \", total)"
      ],
      "metadata": {
        "id": "qal-rNOTA6vi"
      },
      "execution_count": null,
      "outputs": []
    },
    {
      "cell_type": "code",
      "source": [],
      "metadata": {
        "id": "csTF093TA9qr"
      },
      "execution_count": null,
      "outputs": []
    }
  ]
}