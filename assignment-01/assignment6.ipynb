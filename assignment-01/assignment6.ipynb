{
  "nbformat": 4,
  "nbformat_minor": 0,
  "metadata": {
    "colab": {
      "provenance": []
    },
    "kernelspec": {
      "name": "python3",
      "display_name": "Python 3"
    },
    "language_info": {
      "name": "python"
    }
  },
  "cells": [
    {
      "cell_type": "code",
      "source": [
        "#6.1\n",
        "def sum_of_odds(n):\n",
        "    total = 0\n",
        "    for num in range(1, n+1, 2):\n",
        "        total += num\n",
        "    return total\n",
        "n = int(input(\"Enter a number n: \"))\n",
        "result = sum_of_odds(n)\n",
        "print(\"The sum of all odd numbers from 1 to\", n, \"is: \", result)"
      ],
      "metadata": {
        "id": "csTF093TA9qr",
        "colab": {
          "base_uri": "https://localhost:8080/"
        },
        "outputId": "b60056a9-2ce7-40cf-d874-125cff2f3039"
      },
      "execution_count": 1,
      "outputs": [
        {
          "output_type": "stream",
          "name": "stdout",
          "text": [
            "Enter a number n: 34\n",
            "The sum of all odd numbers from 1 to 34 is:  289\n"
          ]
        }
      ]
    },
    {
      "cell_type": "code",
      "source": [
        "#6.2\n",
        "def is_prime(num):\n",
        "    if num <= 1:\n",
        "        return False\n",
        "    for i in range(2, int(num**0.5) + 1):\n",
        "        if num % i == 0:\n",
        "            return False\n",
        "    return True\n",
        "def sum_primes(n):\n",
        "    total = 0\n",
        "    for num in range(2, n+1):\n",
        "        if is_prime(num):\n",
        "            total += num\n",
        "    return total\n",
        "n = int(input(\"Enter a number n: \"))\n",
        "result = sum_primes(n)\n",
        "print(\"The sum of all prime numbers from 1 to\", n, \"is:\", result)"
      ],
      "metadata": {
        "id": "_6hy-MjMBNHx",
        "colab": {
          "base_uri": "https://localhost:8080/"
        },
        "outputId": "e1d6a4e7-a770-4a70-d84a-a4a29660c59c"
      },
      "execution_count": 2,
      "outputs": [
        {
          "output_type": "stream",
          "name": "stdout",
          "text": [
            "Enter a number n: 45\n",
            "The sum of all prime numbers from 1 to 45 is: 281\n"
          ]
        }
      ]
    }
  ]
}