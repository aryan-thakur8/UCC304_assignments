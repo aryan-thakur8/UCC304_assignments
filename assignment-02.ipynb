{
  "nbformat": 4,
  "nbformat_minor": 0,
  "metadata": {
    "colab": {
      "provenance": []
    },
    "kernelspec": {
      "name": "python3",
      "display_name": "Python 3"
    },
    "language_info": {
      "name": "python"
    }
  },
  "cells": [
    {
      "cell_type": "code",
      "source": [
        "#question 2.1\n",
        "x=10\n",
        "y=5\n",
        "z=12\n",
        "print(x+y+z)"
      ],
      "metadata": {
        "colab": {
          "base_uri": "https://localhost:8080/"
        },
        "id": "sspkRdXcFEky",
        "outputId": "ea1c1008-8680-4466-d3be-037f8f303c75"
      },
      "execution_count": 10,
      "outputs": [
        {
          "output_type": "stream",
          "name": "stdout",
          "text": [
            "27\n"
          ]
        }
      ]
    },
    {
      "cell_type": "code",
      "source": [
        "#question 2.2\n",
        "str1=\"hello \"\n",
        "str2=\"pretty \"\n",
        "str3=\"world \"\n",
        "print(str1+str2+str3)"
      ],
      "metadata": {
        "colab": {
          "base_uri": "https://localhost:8080/"
        },
        "id": "fYdyiLNEFFYV",
        "outputId": "92864ae1-0cf0-41a8-a93c-ff3d49fea3ad"
      },
      "execution_count": 11,
      "outputs": [
        {
          "output_type": "stream",
          "name": "stdout",
          "text": [
            "helloprettyworld\n"
          ]
        }
      ]
    }
  ]
}