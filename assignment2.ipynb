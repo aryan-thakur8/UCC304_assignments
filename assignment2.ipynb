{
  "nbformat": 4,
  "nbformat_minor": 0,
  "metadata": {
    "colab": {
      "provenance": []
    },
    "kernelspec": {
      "name": "python3",
      "display_name": "Python 3"
    },
    "language_info": {
      "name": "python"
    }
  },
  "cells": [
    {
      "cell_type": "code",
      "execution_count": 1,
      "metadata": {
        "id": "uB3BsmXIFJm7",
        "colab": {
          "base_uri": "https://localhost:8080/"
        },
        "outputId": "2d7a77ba-864a-4f20-8f76-2b1dc957dfb4"
      },
      "outputs": [
        {
          "output_type": "stream",
          "name": "stdout",
          "text": [
            "i)\n",
            "[10, 20, 30, 40, 50, 60, 70, 80, 200, 300]\n",
            "ii)\n",
            "[20, 40, 50, 60, 70, 80, 200, 300]\n",
            "iii)\n",
            "[20, 40, 50, 60, 70, 80, 200, 300]\n",
            "iv)\n",
            "[300, 200, 80, 70, 60, 50, 40, 20]\n"
          ]
        }
      ],
      "source": [
        "#QUESTION 1\n",
        "L=[10, 20, 30, 40, 50, 60, 70, 80]\n",
        "print('i)')\n",
        "L.append(200)\n",
        "L.append(300)\n",
        "print(L)\n",
        "\n",
        "print('ii)')\n",
        "L.remove(10)\n",
        "L.remove(30)\n",
        "print(L)\n",
        "\n",
        "print('iii)')\n",
        "L.sort()\n",
        "print(L)\n",
        "\n",
        "print('iv)')\n",
        "L.sort(reverse=True)\n",
        "print(L)"
      ]
    },
    {
      "cell_type": "code",
      "source": [
        "#QUESTION 2\n",
        "T=(45, 89.5, 76, 45.4, 89, 92, 58, 45)\n",
        "\n",
        "print('i)')\n",
        "high_score=max(T)\n",
        "print(high_score)\n",
        "\n",
        "print('ii)')\n",
        "low_score=min(T)\n",
        "low_count=T.count(low_score)\n",
        "print(\"Lowest Score is: \", low_score, \"The count is: \", low_count)\n",
        "\n",
        "print('iii)')\n",
        "rev_tuple=T[::-1]\n",
        "print(rev_tuple)\n",
        "rev_list=list(rev_tuple)\n",
        "print(rev_list)\n",
        "\n",
        "print('iv)')\n",
        "score = 76\n",
        "if score in T:\n",
        "    first_occur = T.index(score)\n",
        "    print(\"The score\", score, \"is present at index\", first_occur)\n",
        "else:\n",
        "    print(\"The score is not present in the tuple\")"
      ],
      "metadata": {
        "colab": {
          "base_uri": "https://localhost:8080/"
        },
        "id": "5r21vfZC8NaD",
        "outputId": "6681015c-758f-491b-89b8-d7c78f6e20f8"
      },
      "execution_count": 2,
      "outputs": [
        {
          "output_type": "stream",
          "name": "stdout",
          "text": [
            "i)\n",
            "92\n",
            "ii)\n",
            "Lowest Score is:  45 The count is:  2\n",
            "iii)\n",
            "(45, 58, 92, 89, 45.4, 76, 89.5, 45)\n",
            "[45, 58, 92, 89, 45.4, 76, 89.5, 45]\n",
            "iv)\n",
            "The score 76 is present at index 2\n"
          ]
        }
      ]
    },
    {
      "cell_type": "code",
      "source": [
        "#QUESTION 3\n",
        "import random\n",
        "listX = [random.randint(100,900) for _ in range(100)]\n",
        "print(\"List :\",listX)\n",
        "evenNum = [x for x in listX if x%2==0]\n",
        "print(\"Even Num:\", evenNum)\n",
        "oddNum = [x for x in listX if not x%2==0]\n",
        "print(\"Odd Num:\",oddNum)\n",
        "primeNum = [x for x in listX if all(i%x!=0 for i in range(2,int(x**0.5)+1))]\n",
        "print(\"Prime Num:\",primeNum)"
      ],
      "metadata": {
        "colab": {
          "base_uri": "https://localhost:8080/"
        },
        "id": "jkhA1Xfg8WIc",
        "outputId": "304c6ba2-e5de-4c38-fb9b-4aab11599f2c"
      },
      "execution_count": 3,
      "outputs": [
        {
          "output_type": "stream",
          "name": "stdout",
          "text": [
            "List : [205, 578, 307, 750, 363, 638, 295, 423, 383, 455, 119, 553, 792, 407, 363, 172, 357, 661, 598, 253, 269, 503, 783, 253, 313, 595, 801, 556, 255, 294, 284, 827, 494, 469, 461, 173, 188, 522, 835, 457, 557, 481, 359, 594, 691, 557, 181, 684, 164, 686, 569, 360, 791, 617, 664, 851, 488, 755, 889, 883, 409, 710, 167, 704, 484, 630, 119, 703, 739, 564, 542, 539, 504, 740, 548, 758, 549, 537, 858, 556, 361, 812, 197, 899, 155, 656, 187, 163, 360, 485, 406, 255, 876, 117, 580, 225, 653, 326, 256, 517]\n",
            "Even Num: [578, 750, 638, 792, 172, 598, 556, 294, 284, 494, 188, 522, 594, 684, 164, 686, 360, 664, 488, 710, 704, 484, 630, 564, 542, 504, 740, 548, 758, 858, 556, 812, 656, 360, 406, 876, 580, 326, 256]\n",
            "Odd Num: [205, 307, 363, 295, 423, 383, 455, 119, 553, 407, 363, 357, 661, 253, 269, 503, 783, 253, 313, 595, 801, 255, 827, 469, 461, 173, 835, 457, 557, 481, 359, 691, 557, 181, 569, 791, 617, 851, 755, 889, 883, 409, 167, 119, 703, 739, 539, 549, 537, 361, 197, 899, 155, 187, 163, 485, 255, 117, 225, 653, 517]\n",
            "Prime Num: [205, 578, 307, 750, 363, 638, 295, 423, 383, 455, 119, 553, 792, 407, 363, 172, 357, 661, 598, 253, 269, 503, 783, 253, 313, 595, 801, 556, 255, 294, 284, 827, 494, 469, 461, 173, 188, 522, 835, 457, 557, 481, 359, 594, 691, 557, 181, 684, 164, 686, 569, 360, 791, 617, 664, 851, 488, 755, 889, 883, 409, 710, 167, 704, 484, 630, 119, 703, 739, 564, 542, 539, 504, 740, 548, 758, 549, 537, 858, 556, 361, 812, 197, 899, 155, 656, 187, 163, 360, 485, 406, 255, 876, 117, 580, 225, 653, 326, 256, 517]\n"
          ]
        }
      ]
    },
    {
      "cell_type": "code",
      "source": [
        "#QUESTION 4\n",
        "A = {34, 56, 78, 90}\n",
        "B = {78, 45, 90, 23}\n",
        "print(A|B)\n",
        "print(A&B)\n",
        "print(A.symmetric_difference(B))\n",
        "\n",
        "print(f\"The scores of team A are a subset of team B: {A.issubset(B)}\")\n",
        "print(f\"team B's scores are a superset of team A: {B.issuperset(A)}\")\n",
        "\n",
        "user_in = int(input(\"Enter a score: \"))\n",
        "if user_in in A:\n",
        "    A.remove(user_in)\n",
        "    print(f\"Score {user_in} removed.\")\n",
        "else:\n",
        "    print(f\"Score {user_in} not present in team A.\")"
      ],
      "metadata": {
        "colab": {
          "base_uri": "https://localhost:8080/"
        },
        "id": "CDh4zYwe8jdO",
        "outputId": "f9e9c802-15f8-4f5f-9f43-242052eebe36"
      },
      "execution_count": 4,
      "outputs": [
        {
          "output_type": "stream",
          "name": "stdout",
          "text": [
            "{34, 45, 78, 23, 56, 90}\n",
            "{90, 78}\n",
            "{34, 45, 23, 56}\n",
            "The scores of team A are a subset of team B: False\n",
            "team B's scores are a superset of team A: False\n",
            "Enter a score: 4\n",
            "Score 4 not present in team A.\n"
          ]
        }
      ]
    },
    {
      "cell_type": "code",
      "source": [
        "#QUESTION 5\n",
        "dict= {\n",
        "    'name':\"Aryan\",\n",
        "    'age' :19,\n",
        "    'salary' : 1560000,\n",
        "    'city': 'Himachal'\n",
        "}\n",
        "print(dict)\n",
        "dict['location'] = dict.pop('city')\n",
        "print(dict)"
      ],
      "metadata": {
        "colab": {
          "base_uri": "https://localhost:8080/"
        },
        "id": "jcpFDzZ38osq",
        "outputId": "49edc2d3-b9d2-49cc-e957-401bc61f29d8"
      },
      "execution_count": 6,
      "outputs": [
        {
          "output_type": "stream",
          "name": "stdout",
          "text": [
            "{'name': 'Aryan', 'age': 19, 'salary': 1560000, 'city': 'Himachal'}\n",
            "{'name': 'Aryan', 'age': 19, 'salary': 1560000, 'location': 'Himachal'}\n"
          ]
        }
      ]
    }
  ]
}