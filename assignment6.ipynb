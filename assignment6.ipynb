{
  "nbformat": 4,
  "nbformat_minor": 0,
  "metadata": {
    "colab": {
      "provenance": []
    },
    "kernelspec": {
      "name": "python3",
      "display_name": "Python 3"
    },
    "language_info": {
      "name": "python"
    }
  },
  "cells": [
    {
      "cell_type": "code",
      "source": [
        "#6.1\n",
        "def sum_of_odds(n):\n",
        "    total = 0\n",
        "    for num in range(1, n+1, 2):\n",
        "        total += num\n",
        "    return total\n",
        "n = int(input(\"Enter a number n: \"))\n",
        "result = sum_of_odds(n)\n",
        "print(\"The sum of all odd numbers from 1 to\", n, \"is: \", result)"
      ],
      "metadata": {
        "id": "csTF093TA9qr"
      },
      "execution_count": null,
      "outputs": []
    },
    {
      "cell_type": "code",
      "source": [
        "#6.2\n",
        "def is_prime(num):\n",
        "    if num <= 1:\n",
        "        return False\n",
        "    for i in range(2, int(num**0.5) + 1):\n",
        "        if num % i == 0:\n",
        "            return False\n",
        "    return True\n",
        "def sum_primes(n):\n",
        "    total = 0\n",
        "    for num in range(2, n+1):\n",
        "        if is_prime(num):\n",
        "            total += num\n",
        "    return total\n",
        "n = int(input(\"Enter a number n: \"))\n",
        "result = sum_primes(n)\n",
        "print(\"The sum of all prime numbers from 1 to\", n, \"is:\", result)"
      ],
      "metadata": {
        "id": "_6hy-MjMBNHx"
      },
      "execution_count": null,
      "outputs": []
    }
  ]
}